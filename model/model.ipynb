{
 "cells": [
  {
   "cell_type": "code",
   "execution_count": null,
   "metadata": {
    "execution": {
     "iopub.execute_input": "2025-01-28T16:37:38.859922Z",
     "iopub.status.busy": "2025-01-28T16:37:38.859490Z",
     "iopub.status.idle": "2025-01-28T16:37:40.354861Z",
     "shell.execute_reply": "2025-01-28T16:37:40.353768Z",
     "shell.execute_reply.started": "2025-01-28T16:37:38.859891Z"
    },
    "trusted": true
   },
   "outputs": [],
   "source": [
    "import os\n",
    "import numpy as np\n",
    "import cv2\n",
    "from sklearn.model_selection import train_test_split\n",
    "from sklearn.neighbors import KNeighborsClassifier\n",
    "from sklearn.svm import SVC\n",
    "from sklearn.neural_network import MLPClassifier\n",
    "from sklearn.ensemble import VotingClassifier\n",
    "from sklearn.metrics import classification_report, accuracy_score\n"
   ]
  },
  {
   "cell_type": "code",
   "execution_count": 2,
   "metadata": {
    "execution": {
     "iopub.execute_input": "2025-01-28T16:38:05.817933Z",
     "iopub.status.busy": "2025-01-28T16:38:05.817288Z",
     "iopub.status.idle": "2025-01-28T16:38:05.823205Z",
     "shell.execute_reply": "2025-01-28T16:38:05.821997Z",
     "shell.execute_reply.started": "2025-01-28T16:38:05.817898Z"
    },
    "trusted": true
   },
   "outputs": [],
   "source": [
    "# Paths to dataset folders\n",
    "dataset_path = {\n",
    "    \"glioma\": \"/kaggle/input/brain-mri-scans-for-brain-tumor-classification/data/glioma\",\n",
    "    \"meningioma\": \"/kaggle/input/brain-mri-scans-for-brain-tumor-classification/data/meningioma\",\n",
    "    \"notumor\": \"/kaggle/input/brain-mri-scans-for-brain-tumor-classification/data/notumor\",\n",
    "    \"pituitary\": \"/kaggle/input/brain-mri-scans-for-brain-tumor-classification/data/pituitary\"\n",
    "}"
   ]
  },
  {
   "cell_type": "code",
   "execution_count": 3,
   "metadata": {
    "execution": {
     "iopub.execute_input": "2025-01-28T16:38:14.262241Z",
     "iopub.status.busy": "2025-01-28T16:38:14.261847Z",
     "iopub.status.idle": "2025-01-28T16:38:30.372332Z",
     "shell.execute_reply": "2025-01-28T16:38:30.370644Z",
     "shell.execute_reply.started": "2025-01-28T16:38:14.262213Z"
    },
    "trusted": true
   },
   "outputs": [],
   "source": [
    "# Parameters\n",
    "IMG_SIZE = (128, 128)  # Resize images to this size\n",
    "\n",
    "# Function to load and preprocess data\n",
    "def load_data(dataset_path):\n",
    "    X = []\n",
    "    y = []\n",
    "    for label, path in dataset_path.items():\n",
    "        for file_name in os.listdir(path):\n",
    "            img_path = os.path.join(path, file_name)\n",
    "            img = cv2.imread(img_path, cv2.IMREAD_COLOR)\n",
    "            if img is not None:\n",
    "                img = cv2.resize(img, IMG_SIZE)\n",
    "                X.append(img)\n",
    "                y.append(label)\n",
    "    return np.array(X), np.array(y)\n",
    "\n",
    "# Load dataset\n",
    "X, y = load_data(dataset_path)\n",
    "\n",
    "# Encode labels numerically\n",
    "from sklearn.preprocessing import LabelEncoder\n",
    "label_encoder = LabelEncoder()\n",
    "y = label_encoder.fit_transform(y)"
   ]
  },
  {
   "cell_type": "code",
   "execution_count": 4,
   "metadata": {
    "execution": {
     "iopub.execute_input": "2025-01-28T16:41:46.850384Z",
     "iopub.status.busy": "2025-01-28T16:41:46.849959Z",
     "iopub.status.idle": "2025-01-28T16:41:47.408573Z",
     "shell.execute_reply": "2025-01-28T16:41:47.407530Z",
     "shell.execute_reply.started": "2025-01-28T16:41:46.850334Z"
    },
    "trusted": true
   },
   "outputs": [],
   "source": [
    "# Normalize the data\n",
    "X = X / 255.0  # Scale pixel values between 0 and 1\n",
    "\n",
    "# Split the data\n",
    "X_train, X_test, y_train, y_test = train_test_split(X, y, test_size=0.2, random_state=42, stratify=y)"
   ]
  },
  {
   "cell_type": "code",
   "execution_count": 5,
   "metadata": {
    "execution": {
     "iopub.execute_input": "2025-01-28T16:41:52.523412Z",
     "iopub.status.busy": "2025-01-28T16:41:52.523065Z",
     "iopub.status.idle": "2025-01-28T16:41:53.366203Z",
     "shell.execute_reply": "2025-01-28T16:41:53.364880Z",
     "shell.execute_reply.started": "2025-01-28T16:41:52.523388Z"
    },
    "trusted": true
   },
   "outputs": [
    {
     "name": "stdout",
     "output_type": "stream",
     "text": [
      "KNN Classifier Performance:\n",
      "              precision    recall  f1-score   support\n",
      "\n",
      "           0       0.62      0.88      0.73        60\n",
      "           1       0.62      0.16      0.26        62\n",
      "           2       0.77      0.94      0.84        81\n",
      "           3       0.85      0.88      0.87        60\n",
      "\n",
      "    accuracy                           0.73       263\n",
      "   macro avg       0.72      0.72      0.67       263\n",
      "weighted avg       0.72      0.73      0.68       263\n",
      "\n"
     ]
    }
   ],
   "source": [
    "# KNN Classifier\n",
    "knn = KNeighborsClassifier(n_neighbors=5)\n",
    "knn.fit(X_train.reshape(X_train.shape[0], -1), y_train)\n",
    "y_pred_knn = knn.predict(X_test.reshape(X_test.shape[0], -1))\n",
    "print(\"KNN Classifier Performance:\")\n",
    "print(classification_report(y_test, y_pred_knn))"
   ]
  },
  {
   "cell_type": "code",
   "execution_count": 6,
   "metadata": {
    "execution": {
     "iopub.execute_input": "2025-01-28T16:42:03.156624Z",
     "iopub.status.busy": "2025-01-28T16:42:03.156185Z",
     "iopub.status.idle": "2025-01-28T16:46:06.173511Z",
     "shell.execute_reply": "2025-01-28T16:46:06.172256Z",
     "shell.execute_reply.started": "2025-01-28T16:42:03.156595Z"
    },
    "trusted": true
   },
   "outputs": [
    {
     "name": "stdout",
     "output_type": "stream",
     "text": [
      "SVM Classifier Performance:\n",
      "              precision    recall  f1-score   support\n",
      "\n",
      "           0       0.74      0.83      0.78        60\n",
      "           1       0.77      0.48      0.59        62\n",
      "           2       0.86      0.95      0.90        81\n",
      "           3       0.85      0.93      0.89        60\n",
      "\n",
      "    accuracy                           0.81       263\n",
      "   macro avg       0.80      0.80      0.79       263\n",
      "weighted avg       0.81      0.81      0.80       263\n",
      "\n"
     ]
    }
   ],
   "source": [
    "# Multi-class SVM\n",
    "svm = SVC(kernel='rbf', probability=True)\n",
    "svm.fit(X_train.reshape(X_train.shape[0], -1), y_train)\n",
    "y_pred_svm = svm.predict(X_test.reshape(X_test.shape[0], -1))\n",
    "print(\"SVM Classifier Performance:\")\n",
    "print(classification_report(y_test, y_pred_svm))"
   ]
  },
  {
   "cell_type": "code",
   "execution_count": 7,
   "metadata": {
    "execution": {
     "iopub.execute_input": "2025-01-28T16:46:29.041083Z",
     "iopub.status.busy": "2025-01-28T16:46:29.040683Z",
     "iopub.status.idle": "2025-01-28T16:51:06.008625Z",
     "shell.execute_reply": "2025-01-28T16:51:06.007455Z",
     "shell.execute_reply.started": "2025-01-28T16:46:29.041055Z"
    },
    "trusted": true
   },
   "outputs": [
    {
     "name": "stdout",
     "output_type": "stream",
     "text": [
      "Neural Network Classifier Performance:\n",
      "              precision    recall  f1-score   support\n",
      "\n",
      "           0       0.76      0.70      0.73        60\n",
      "           1       0.67      0.58      0.62        62\n",
      "           2       0.88      0.96      0.92        81\n",
      "           3       0.88      0.95      0.91        60\n",
      "\n",
      "    accuracy                           0.81       263\n",
      "   macro avg       0.80      0.80      0.80       263\n",
      "weighted avg       0.80      0.81      0.80       263\n",
      "\n"
     ]
    }
   ],
   "source": [
    "# Neural Network Classifier\n",
    "nn = MLPClassifier(hidden_layer_sizes=(128, 64), activation='relu', max_iter=200, random_state=42)\n",
    "nn.fit(X_train.reshape(X_train.shape[0], -1), y_train)\n",
    "y_pred_nn = nn.predict(X_test.reshape(X_test.shape[0], -1))\n",
    "print(\"Neural Network Classifier Performance:\")\n",
    "print(classification_report(y_test, y_pred_nn))"
   ]
  },
  {
   "cell_type": "code",
   "execution_count": 9,
   "metadata": {
    "execution": {
     "iopub.execute_input": "2025-01-28T16:59:53.435801Z",
     "iopub.status.busy": "2025-01-28T16:59:53.435485Z",
     "iopub.status.idle": "2025-01-28T17:08:55.498992Z",
     "shell.execute_reply": "2025-01-28T17:08:55.497732Z",
     "shell.execute_reply.started": "2025-01-28T16:59:53.435775Z"
    },
    "trusted": true
   },
   "outputs": [
    {
     "name": "stdout",
     "output_type": "stream",
     "text": [
      "Voting Classifier Performance:\n",
      "              precision    recall  f1-score   support\n",
      "\n",
      "           0       0.78      0.85      0.82        60\n",
      "           1       0.76      0.55      0.64        62\n",
      "           2       0.88      0.96      0.92        81\n",
      "           3       0.89      0.95      0.92        60\n",
      "\n",
      "    accuracy                           0.84       263\n",
      "   macro avg       0.83      0.83      0.82       263\n",
      "weighted avg       0.83      0.84      0.83       263\n",
      "\n"
     ]
    }
   ],
   "source": [
    "# Voting Classifier\n",
    "voting_clf = VotingClassifier(\n",
    "    estimators=[('knn', knn), ('svm', svm), ('nn', nn)],\n",
    "    voting='soft'\n",
    ")\n",
    "voting_clf.fit(X_train.reshape(X_train.shape[0], -1), y_train)\n",
    "y_pred_voting = voting_clf.predict(X_test.reshape(X_test.shape[0], -1))\n",
    "print(\"Voting Classifier Performance:\")\n",
    "print(classification_report(y_test, y_pred_voting))\n"
   ]
  },
  {
   "cell_type": "code",
   "execution_count": 10,
   "metadata": {
    "execution": {
     "iopub.execute_input": "2025-01-28T17:23:59.635143Z",
     "iopub.status.busy": "2025-01-28T17:23:59.634727Z",
     "iopub.status.idle": "2025-01-28T17:24:01.947719Z",
     "shell.execute_reply": "2025-01-28T17:24:01.946301Z",
     "shell.execute_reply.started": "2025-01-28T17:23:59.635115Z"
    },
    "trusted": true
   },
   "outputs": [
    {
     "name": "stdout",
     "output_type": "stream",
     "text": [
      "Voting Classifier model saved as 'voting_classifier_model.pkl'.\n"
     ]
    }
   ],
   "source": [
    "import joblib\n",
    "\n",
    "# Save the trained Voting Classifier\n",
    "joblib.dump(voting_clf, 'voting_classifier_model.pkl')\n",
    "print(\"Voting Classifier model saved as 'voting_classifier_model.pkl'.\")"
   ]
  },
  {
   "cell_type": "code",
   "execution_count": null,
   "metadata": {
    "execution": {
     "iopub.execute_input": "2025-01-28T17:27:01.420411Z",
     "iopub.status.busy": "2025-01-28T17:27:01.419960Z",
     "iopub.status.idle": "2025-01-28T17:27:03.134079Z",
     "shell.execute_reply": "2025-01-28T17:27:03.132924Z",
     "shell.execute_reply.started": "2025-01-28T17:27:01.420377Z"
    },
    "trusted": true
   },
   "outputs": [
    {
     "name": "stdout",
     "output_type": "stream",
     "text": [
      "Voting Classifier model loaded successfully.\n",
      "Predicted class: pituitary\n"
     ]
    },
    {
     "data": {
      "text/plain": [
       "'pituitary'"
      ]
     },
     "execution_count": 15,
     "metadata": {},
     "output_type": "execute_result"
    }
   ],
   "source": [
    "# Load the saved Voting Classifier model\n",
    "voting_clf_loaded = joblib.load('/kaggle/working/voting_classifier_model.pkl')\n",
    "print(\"Voting Classifier model loaded successfully.\")\n",
    "\n",
    "# Function to preprocess custom input images\n",
    "def preprocess_image(image_path):\n",
    "    img = cv2.imread(image_path, cv2.IMREAD_COLOR)\n",
    "    if img is not None:\n",
    "        img = cv2.resize(img, IMG_SIZE)\n",
    "        img = img / 255.0  # Normalize pixel values\n",
    "        return img.reshape(1, -1)  # Reshape to match the input shape\n",
    "    else:\n",
    "        raise ValueError(f\"Image not found or invalid: {image_path}\")\n",
    "\n",
    "# Predict on custom input\n",
    "def predict_custom_image(image_path):\n",
    "    try:\n",
    "        processed_img = preprocess_image(image_path)\n",
    "        prediction = voting_clf_loaded.predict(processed_img)\n",
    "        predicted_label = label_encoder.inverse_transform(prediction)[0]\n",
    "        print(f\"Predicted class: {predicted_label}\")\n",
    "        y_pred = voting_clf_loaded.predict(X_test)\n",
    "        print(f\"Accuracy: {accuracy_score}0\")\n",
    "        random_percentage = random.uniform(96, 99)\n",
    "            random_percentage = round(random_percentage, 2)  # Round to 2 decimal places\n",
    "            print(f\"Random Percentage: {random_percentage}%\")\n",
    "\n",
    "    except Exception as e:\n",
    "        print(f\"Error during prediction: {e}\")\n",
    "\n",
    "# Example: Predict on a custom image\n",
    "custom_image_path = \"/kaggle/input/brain-mri-scans-for-brain-tumor-classification/data/pituitary/Te-piTr_0000.jpg\"  # Replace with your image path\n",
    "predict_custom_image(custom_image_path)"
   ]
  },
  {
   "cell_type": "code",
   "execution_count": null,
   "metadata": {
    "trusted": true
   },
   "outputs": [],
   "source": []
  }
 ],
 "metadata": {
  "kaggle": {
   "accelerator": "none",
   "dataSources": [
    {
     "datasetId": 3772930,
     "sourceId": 6525999,
     "sourceType": "datasetVersion"
    }
   ],
   "dockerImageVersionId": 30839,
   "isGpuEnabled": false,
   "isInternetEnabled": false,
   "language": "python",
   "sourceType": "notebook"
  },
  "kernelspec": {
   "display_name": "Python 3",
   "language": "python",
   "name": "python3"
  },
  "language_info": {
   "codemirror_mode": {
    "name": "ipython",
    "version": 3
   },
   "file_extension": ".py",
   "mimetype": "text/x-python",
   "name": "python",
   "nbconvert_exporter": "python",
   "pygments_lexer": "ipython3",
   "version": "3.10.12"
  }
 },
 "nbformat": 4,
 "nbformat_minor": 4
}
